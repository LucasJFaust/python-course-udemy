{
 "cells": [
  {
   "cell_type": "code",
   "execution_count": 3,
   "id": "74794f5a",
   "metadata": {},
   "outputs": [],
   "source": [
    "lista = ['Programador', 'Aventureiro', 'curso', 'de', 'Python', 100, 10, 9, 149]"
   ]
  },
  {
   "cell_type": "code",
   "execution_count": 4,
   "id": "c056609a",
   "metadata": {},
   "outputs": [
    {
     "data": {
      "text/plain": [
       "['Programador', 'Aventureiro', 'curso', 'de']"
      ]
     },
     "execution_count": 4,
     "metadata": {},
     "output_type": "execute_result"
    }
   ],
   "source": [
    "lista[0:4]"
   ]
  },
  {
   "cell_type": "code",
   "execution_count": 5,
   "id": "f3123a63",
   "metadata": {},
   "outputs": [
    {
     "data": {
      "text/plain": [
       "2"
      ]
     },
     "execution_count": 5,
     "metadata": {},
     "output_type": "execute_result"
    }
   ],
   "source": [
    "lista.index('curso')"
   ]
  },
  {
   "cell_type": "code",
   "execution_count": 6,
   "id": "4bd4f9b6",
   "metadata": {},
   "outputs": [
    {
     "data": {
      "text/plain": [
       "['curso', 'de', 'Python']"
      ]
     },
     "execution_count": 6,
     "metadata": {},
     "output_type": "execute_result"
    }
   ],
   "source": [
    "lista[2:5]"
   ]
  },
  {
   "cell_type": "code",
   "execution_count": 7,
   "id": "09edd4cc",
   "metadata": {},
   "outputs": [
    {
     "data": {
      "text/plain": [
       "['curso', 'de', 'Python']"
      ]
     },
     "execution_count": 7,
     "metadata": {},
     "output_type": "execute_result"
    }
   ],
   "source": [
    "lista[lista.index('curso'):lista.index('Python')+1]"
   ]
  },
  {
   "cell_type": "code",
   "execution_count": 8,
   "id": "198e269c",
   "metadata": {},
   "outputs": [
    {
     "data": {
      "text/plain": [
       "[0.1, 0.9, 1.5, 2.1, 2.6, 3.6, 4.5]"
      ]
     },
     "execution_count": 8,
     "metadata": {},
     "output_type": "execute_result"
    }
   ],
   "source": [
    "decimais = [1.5, 2.6, 0.1, 4.5, 3.6, 2.1, 0.9]\n",
    "decimais.sort()\n",
    "decimais"
   ]
  },
  {
   "cell_type": "code",
   "execution_count": 9,
   "id": "2ad971d7",
   "metadata": {},
   "outputs": [],
   "source": [
    "lista.sort(key=str)  # Ordena a lista"
   ]
  },
  {
   "cell_type": "code",
   "execution_count": 10,
   "id": "f5b8723f",
   "metadata": {},
   "outputs": [
    {
     "data": {
      "text/plain": [
       "[10, 100, 149, 9, 'Aventureiro', 'Programador', 'Python', 'curso', 'de']"
      ]
     },
     "execution_count": 10,
     "metadata": {},
     "output_type": "execute_result"
    }
   ],
   "source": [
    "lista"
   ]
  },
  {
   "cell_type": "code",
   "execution_count": null,
   "id": "3ea6af7d",
   "metadata": {},
   "outputs": [],
   "source": []
  }
 ],
 "metadata": {
  "kernelspec": {
   "display_name": "3.10.17",
   "language": "python",
   "name": "python3"
  },
  "language_info": {
   "codemirror_mode": {
    "name": "ipython",
    "version": 3
   },
   "file_extension": ".py",
   "mimetype": "text/x-python",
   "name": "python",
   "nbconvert_exporter": "python",
   "pygments_lexer": "ipython3",
   "version": "3.10.17"
  }
 },
 "nbformat": 4,
 "nbformat_minor": 5
}
